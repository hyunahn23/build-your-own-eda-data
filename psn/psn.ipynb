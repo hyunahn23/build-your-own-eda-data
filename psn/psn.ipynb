{
 "cells": [
  {
   "cell_type": "code",
   "execution_count": null,
   "metadata": {},
   "outputs": [],
   "source": [
    "import numpy as np\n",
    "import pandas as pd\n",
    "import matplotlib.pyplot as plt\n",
    "import seaborn as sns\n",
    "from datetime import datetime\n",
    "sns.set()"
   ]
  },
  {
   "cell_type": "code",
   "execution_count": 16,
   "metadata": {},
   "outputs": [
    {
     "data": {
      "text/html": [
       "<div>\n",
       "<style scoped>\n",
       "    .dataframe tbody tr th:only-of-type {\n",
       "        vertical-align: middle;\n",
       "    }\n",
       "\n",
       "    .dataframe tbody tr th {\n",
       "        vertical-align: top;\n",
       "    }\n",
       "\n",
       "    .dataframe thead th {\n",
       "        text-align: right;\n",
       "    }\n",
       "</style>\n",
       "<table border=\"1\" class=\"dataframe\">\n",
       "  <thead>\n",
       "    <tr style=\"text-align: right;\">\n",
       "      <th></th>\n",
       "      <th>User ID</th>\n",
       "      <th>Subscription Type</th>\n",
       "      <th>Monthly Revenue</th>\n",
       "      <th>Quarterly Revenue</th>\n",
       "      <th>Annual Revenue</th>\n",
       "      <th>Join Date</th>\n",
       "      <th>Last Payment Date</th>\n",
       "      <th>Country</th>\n",
       "      <th>Age</th>\n",
       "      <th>Gender</th>\n",
       "      <th>Device</th>\n",
       "      <th>Plan Duration</th>\n",
       "    </tr>\n",
       "  </thead>\n",
       "  <tbody>\n",
       "    <tr>\n",
       "      <th>0</th>\n",
       "      <td>0</td>\n",
       "      <td>Delux</td>\n",
       "      <td>8000</td>\n",
       "      <td>20000</td>\n",
       "      <td>62000</td>\n",
       "      <td>26-01-22</td>\n",
       "      <td>16-12-22</td>\n",
       "      <td>United States</td>\n",
       "      <td>29</td>\n",
       "      <td>Male</td>\n",
       "      <td>PS5</td>\n",
       "      <td>3 Month</td>\n",
       "    </tr>\n",
       "    <tr>\n",
       "      <th>1</th>\n",
       "      <td>1</td>\n",
       "      <td>Delux</td>\n",
       "      <td>7500</td>\n",
       "      <td>18800</td>\n",
       "      <td>60000</td>\n",
       "      <td>13-03-25</td>\n",
       "      <td>03-01-26</td>\n",
       "      <td>Japan</td>\n",
       "      <td>14</td>\n",
       "      <td>Male</td>\n",
       "      <td>PS5_PRO</td>\n",
       "      <td>1 Month</td>\n",
       "    </tr>\n",
       "    <tr>\n",
       "      <th>2</th>\n",
       "      <td>2</td>\n",
       "      <td>Delux</td>\n",
       "      <td>9000</td>\n",
       "      <td>22000</td>\n",
       "      <td>65000</td>\n",
       "      <td>10-07-21</td>\n",
       "      <td>12-10-21</td>\n",
       "      <td>United States</td>\n",
       "      <td>50</td>\n",
       "      <td>Male</td>\n",
       "      <td>PS5</td>\n",
       "      <td>12 Month</td>\n",
       "    </tr>\n",
       "    <tr>\n",
       "      <th>3</th>\n",
       "      <td>3</td>\n",
       "      <td>Essential</td>\n",
       "      <td>7500</td>\n",
       "      <td>18800</td>\n",
       "      <td>60000</td>\n",
       "      <td>28-04-21</td>\n",
       "      <td>06-07-21</td>\n",
       "      <td>Indonesia</td>\n",
       "      <td>28</td>\n",
       "      <td>Male</td>\n",
       "      <td>PS5</td>\n",
       "      <td>1 Month</td>\n",
       "    </tr>\n",
       "    <tr>\n",
       "      <th>4</th>\n",
       "      <td>4</td>\n",
       "      <td>Delux</td>\n",
       "      <td>9000</td>\n",
       "      <td>22000</td>\n",
       "      <td>65000</td>\n",
       "      <td>24-03-18</td>\n",
       "      <td>23-12-18</td>\n",
       "      <td>Germany</td>\n",
       "      <td>23</td>\n",
       "      <td>Male</td>\n",
       "      <td>PS4</td>\n",
       "      <td>12 Month</td>\n",
       "    </tr>\n",
       "  </tbody>\n",
       "</table>\n",
       "</div>"
      ],
      "text/plain": [
       "   User ID Subscription Type  Monthly Revenue  Quarterly Revenue  \\\n",
       "0        0             Delux             8000              20000   \n",
       "1        1             Delux             7500              18800   \n",
       "2        2             Delux             9000              22000   \n",
       "3        3         Essential             7500              18800   \n",
       "4        4             Delux             9000              22000   \n",
       "\n",
       "   Annual Revenue Join Date Last Payment Date        Country  Age Gender  \\\n",
       "0           62000  26-01-22          16-12-22  United States   29   Male   \n",
       "1           60000  13-03-25          03-01-26          Japan   14   Male   \n",
       "2           65000  10-07-21          12-10-21  United States   50   Male   \n",
       "3           60000  28-04-21          06-07-21      Indonesia   28   Male   \n",
       "4           65000  24-03-18          23-12-18        Germany   23   Male   \n",
       "\n",
       "    Device Plan Duration  \n",
       "0      PS5       3 Month  \n",
       "1  PS5_PRO       1 Month  \n",
       "2      PS5      12 Month  \n",
       "3      PS5       1 Month  \n",
       "4      PS4      12 Month  "
      ]
     },
     "execution_count": 16,
     "metadata": {},
     "output_type": "execute_result"
    }
   ],
   "source": [
    "df = pd.read_csv('./data/psn.csv')\n",
    "df.head()"
   ]
  },
  {
   "cell_type": "code",
   "execution_count": 17,
   "metadata": {},
   "outputs": [
    {
     "name": "stdout",
     "output_type": "stream",
     "text": [
      "<class 'pandas.core.frame.DataFrame'>\n",
      "RangeIndex: 20000000 entries, 0 to 19999999\n",
      "Data columns (total 12 columns):\n",
      " #   Column             Dtype \n",
      "---  ------             ----- \n",
      " 0   User ID            int64 \n",
      " 1   Subscription Type  object\n",
      " 2   Monthly Revenue    int64 \n",
      " 3   Quarterly Revenue  int64 \n",
      " 4   Annual Revenue     int64 \n",
      " 5   Join Date          object\n",
      " 6   Last Payment Date  object\n",
      " 7   Country            object\n",
      " 8   Age                int64 \n",
      " 9   Gender             object\n",
      " 10  Device             object\n",
      " 11  Plan Duration      object\n",
      "dtypes: int64(5), object(7)\n",
      "memory usage: 1.8+ GB\n"
     ]
    },
    {
     "data": {
      "text/html": [
       "<div>\n",
       "<style scoped>\n",
       "    .dataframe tbody tr th:only-of-type {\n",
       "        vertical-align: middle;\n",
       "    }\n",
       "\n",
       "    .dataframe tbody tr th {\n",
       "        vertical-align: top;\n",
       "    }\n",
       "\n",
       "    .dataframe thead th {\n",
       "        text-align: right;\n",
       "    }\n",
       "</style>\n",
       "<table border=\"1\" class=\"dataframe\">\n",
       "  <thead>\n",
       "    <tr style=\"text-align: right;\">\n",
       "      <th></th>\n",
       "      <th>User ID</th>\n",
       "      <th>Monthly Revenue</th>\n",
       "      <th>Quarterly Revenue</th>\n",
       "      <th>Annual Revenue</th>\n",
       "      <th>Age</th>\n",
       "    </tr>\n",
       "  </thead>\n",
       "  <tbody>\n",
       "    <tr>\n",
       "      <th>count</th>\n",
       "      <td>2.000000e+07</td>\n",
       "      <td>2.000000e+07</td>\n",
       "      <td>2.000000e+07</td>\n",
       "      <td>2.000000e+07</td>\n",
       "      <td>2.000000e+07</td>\n",
       "    </tr>\n",
       "    <tr>\n",
       "      <th>mean</th>\n",
       "      <td>1.000000e+07</td>\n",
       "      <td>8.166807e+03</td>\n",
       "      <td>2.026696e+04</td>\n",
       "      <td>6.233378e+04</td>\n",
       "      <td>3.043318e+01</td>\n",
       "    </tr>\n",
       "    <tr>\n",
       "      <th>std</th>\n",
       "      <td>5.773503e+06</td>\n",
       "      <td>6.236571e+02</td>\n",
       "      <td>1.320027e+03</td>\n",
       "      <td>2.054946e+03</td>\n",
       "      <td>9.040691e+00</td>\n",
       "    </tr>\n",
       "    <tr>\n",
       "      <th>min</th>\n",
       "      <td>0.000000e+00</td>\n",
       "      <td>7.500000e+03</td>\n",
       "      <td>1.880000e+04</td>\n",
       "      <td>6.000000e+04</td>\n",
       "      <td>1.400000e+01</td>\n",
       "    </tr>\n",
       "    <tr>\n",
       "      <th>25%</th>\n",
       "      <td>5.000000e+06</td>\n",
       "      <td>7.500000e+03</td>\n",
       "      <td>1.880000e+04</td>\n",
       "      <td>6.000000e+04</td>\n",
       "      <td>2.300000e+01</td>\n",
       "    </tr>\n",
       "    <tr>\n",
       "      <th>50%</th>\n",
       "      <td>1.000000e+07</td>\n",
       "      <td>8.000000e+03</td>\n",
       "      <td>2.000000e+04</td>\n",
       "      <td>6.200000e+04</td>\n",
       "      <td>3.000000e+01</td>\n",
       "    </tr>\n",
       "    <tr>\n",
       "      <th>75%</th>\n",
       "      <td>1.500000e+07</td>\n",
       "      <td>9.000000e+03</td>\n",
       "      <td>2.200000e+04</td>\n",
       "      <td>6.500000e+04</td>\n",
       "      <td>3.700000e+01</td>\n",
       "    </tr>\n",
       "    <tr>\n",
       "      <th>max</th>\n",
       "      <td>2.000000e+07</td>\n",
       "      <td>9.000000e+03</td>\n",
       "      <td>2.200000e+04</td>\n",
       "      <td>6.500000e+04</td>\n",
       "      <td>5.000000e+01</td>\n",
       "    </tr>\n",
       "  </tbody>\n",
       "</table>\n",
       "</div>"
      ],
      "text/plain": [
       "            User ID  Monthly Revenue  Quarterly Revenue  Annual Revenue  \\\n",
       "count  2.000000e+07     2.000000e+07       2.000000e+07    2.000000e+07   \n",
       "mean   1.000000e+07     8.166807e+03       2.026696e+04    6.233378e+04   \n",
       "std    5.773503e+06     6.236571e+02       1.320027e+03    2.054946e+03   \n",
       "min    0.000000e+00     7.500000e+03       1.880000e+04    6.000000e+04   \n",
       "25%    5.000000e+06     7.500000e+03       1.880000e+04    6.000000e+04   \n",
       "50%    1.000000e+07     8.000000e+03       2.000000e+04    6.200000e+04   \n",
       "75%    1.500000e+07     9.000000e+03       2.200000e+04    6.500000e+04   \n",
       "max    2.000000e+07     9.000000e+03       2.200000e+04    6.500000e+04   \n",
       "\n",
       "                Age  \n",
       "count  2.000000e+07  \n",
       "mean   3.043318e+01  \n",
       "std    9.040691e+00  \n",
       "min    1.400000e+01  \n",
       "25%    2.300000e+01  \n",
       "50%    3.000000e+01  \n",
       "75%    3.700000e+01  \n",
       "max    5.000000e+01  "
      ]
     },
     "execution_count": 17,
     "metadata": {},
     "output_type": "execute_result"
    }
   ],
   "source": [
    "df.info()\n",
    "df.describe()"
   ]
  },
  {
   "cell_type": "code",
   "execution_count": 18,
   "metadata": {},
   "outputs": [],
   "source": [
    "df2 = df.drop(['User ID'], axis =1)"
   ]
  },
  {
   "cell_type": "code",
   "execution_count": 19,
   "metadata": {},
   "outputs": [
    {
     "data": {
      "text/plain": [
       "Index(['Subscription Type', 'Monthly Revenue', 'Quarterly Revenue',\n",
       "       'Annual Revenue', 'Join Date', 'Last Payment Date', 'Country', 'Age',\n",
       "       'Gender', 'Device', 'Plan Duration'],\n",
       "      dtype='object')"
      ]
     },
     "execution_count": 19,
     "metadata": {},
     "output_type": "execute_result"
    }
   ],
   "source": [
    "df2.columns"
   ]
  },
  {
   "cell_type": "code",
   "execution_count": null,
   "metadata": {},
   "outputs": [
    {
     "data": {
      "text/html": [
       "<div>\n",
       "<style scoped>\n",
       "    .dataframe tbody tr th:only-of-type {\n",
       "        vertical-align: middle;\n",
       "    }\n",
       "\n",
       "    .dataframe tbody tr th {\n",
       "        vertical-align: top;\n",
       "    }\n",
       "\n",
       "    .dataframe thead th {\n",
       "        text-align: right;\n",
       "    }\n",
       "</style>\n",
       "<table border=\"1\" class=\"dataframe\">\n",
       "  <thead>\n",
       "    <tr style=\"text-align: right;\">\n",
       "      <th></th>\n",
       "      <th>Subscription Type</th>\n",
       "      <th>Monthly Revenue</th>\n",
       "      <th>Join Date</th>\n",
       "      <th>Last Payment Date</th>\n",
       "      <th>Country</th>\n",
       "      <th>Age</th>\n",
       "      <th>Gender</th>\n",
       "      <th>Device</th>\n",
       "      <th>Plan Duration</th>\n",
       "    </tr>\n",
       "  </thead>\n",
       "  <tbody>\n",
       "    <tr>\n",
       "      <th>0</th>\n",
       "      <td>Delux</td>\n",
       "      <td>20000.0</td>\n",
       "      <td>26-01-22</td>\n",
       "      <td>16-12-22</td>\n",
       "      <td>United States</td>\n",
       "      <td>29</td>\n",
       "      <td>Male</td>\n",
       "      <td>PS5</td>\n",
       "      <td>3 Month</td>\n",
       "    </tr>\n",
       "    <tr>\n",
       "      <th>1</th>\n",
       "      <td>Delux</td>\n",
       "      <td>7500.0</td>\n",
       "      <td>13-03-25</td>\n",
       "      <td>03-01-26</td>\n",
       "      <td>Japan</td>\n",
       "      <td>14</td>\n",
       "      <td>Male</td>\n",
       "      <td>PS5_PRO</td>\n",
       "      <td>1 Month</td>\n",
       "    </tr>\n",
       "    <tr>\n",
       "      <th>2</th>\n",
       "      <td>Delux</td>\n",
       "      <td>65000.0</td>\n",
       "      <td>10-07-21</td>\n",
       "      <td>12-10-21</td>\n",
       "      <td>United States</td>\n",
       "      <td>50</td>\n",
       "      <td>Male</td>\n",
       "      <td>PS5</td>\n",
       "      <td>12 Month</td>\n",
       "    </tr>\n",
       "    <tr>\n",
       "      <th>3</th>\n",
       "      <td>Essential</td>\n",
       "      <td>7500.0</td>\n",
       "      <td>28-04-21</td>\n",
       "      <td>06-07-21</td>\n",
       "      <td>Indonesia</td>\n",
       "      <td>28</td>\n",
       "      <td>Male</td>\n",
       "      <td>PS5</td>\n",
       "      <td>1 Month</td>\n",
       "    </tr>\n",
       "    <tr>\n",
       "      <th>4</th>\n",
       "      <td>Delux</td>\n",
       "      <td>65000.0</td>\n",
       "      <td>24-03-18</td>\n",
       "      <td>23-12-18</td>\n",
       "      <td>Germany</td>\n",
       "      <td>23</td>\n",
       "      <td>Male</td>\n",
       "      <td>PS4</td>\n",
       "      <td>12 Month</td>\n",
       "    </tr>\n",
       "  </tbody>\n",
       "</table>\n",
       "</div>"
      ],
      "text/plain": [
       "  Subscription Type  Monthly Revenue Join Date Last Payment Date  \\\n",
       "0             Delux          20000.0  26-01-22          16-12-22   \n",
       "1             Delux           7500.0  13-03-25          03-01-26   \n",
       "2             Delux          65000.0  10-07-21          12-10-21   \n",
       "3         Essential           7500.0  28-04-21          06-07-21   \n",
       "4             Delux          65000.0  24-03-18          23-12-18   \n",
       "\n",
       "         Country  Age Gender   Device Plan Duration  \n",
       "0  United States   29   Male      PS5       3 Month  \n",
       "1          Japan   14   Male  PS5_PRO       1 Month  \n",
       "2  United States   50   Male      PS5      12 Month  \n",
       "3      Indonesia   28   Male      PS5       1 Month  \n",
       "4        Germany   23   Male      PS4      12 Month  "
      ]
     },
     "execution_count": 20,
     "metadata": {},
     "output_type": "execute_result"
    }
   ],
   "source": [
    "df2[\"Monthly Revenue\"] = df2[\"Monthly Revenue\"].astype(str).str.replace(\",\", \"\").astype(float)\n",
    "df2[\"Quarterly Revenue\"] = df2[\"Quarterly Revenue\"].astype(str).str.replace(\",\", \"\").astype(float)\n",
    "df2[\"Annual Revenue\"] = df2[\"Annual Revenue\"].astype(str).str.replace(\",\", \"\").astype(float)\n",
    "\n",
    "df2.loc[df2[\"Plan Duration\"] == \"3 Month\", \"Monthly Revenue\"] = df2[\"Quarterly Revenue\"]\n",
    "df2.loc[df2[\"Plan Duration\"] == \"12 Month\", \"Monthly Revenue\"] = df2[\"Annual Revenue\"]\n",
    "\n",
    "df2 = df2.drop(columns=[\"Quarterly Revenue\", \"Annual Revenue\"])\n",
    "\n",
    "df2.head()\n",
    "# df2.to_csv(\"./data/psn_dataset_2.csv\", index=False)"
   ]
  },
  {
   "cell_type": "code",
   "execution_count": 21,
   "metadata": {},
   "outputs": [
    {
     "name": "stdout",
     "output_type": "stream",
     "text": [
      "20000000\n"
     ]
    }
   ],
   "source": [
    "# st = df2.groupby('Subscription Type').sum().reset_index()\n",
    "# sns.barplot(data=st, x='Subscription Type', y='Monthly Revenue')\n",
    "# plt.show()\n",
    "print(len(df2)) "
   ]
  },
  {
   "cell_type": "code",
   "execution_count": 26,
   "metadata": {},
   "outputs": [
    {
     "data": {
      "image/png": "[encoded data removed]",
      "text/plain": [
       "<Figure size 800x500 with 1 Axes>"
      ]
     },
     "metadata": {},
     "output_type": "display_data"
    }
   ],
   "source": [
    "# 수치형 컬럼만 그룹화 대상으로 지정\n",
    "st = df2.groupby('Subscription Type')[['Monthly Revenue']].sum().reset_index()\n",
    "\n",
    "# 시각화\n",
    "plt.figure(figsize=(8, 5))\n",
    "sns.barplot(data=st, x='Subscription Type', y='Monthly Revenue')\n",
    "plt.tight_layout()\n",
    "plt.show()"
   ]
  },
  {
   "cell_type": "code",
   "execution_count": 27,
   "metadata": {},
   "outputs": [
    {
     "data": {
      "text/plain": [
       "11997374"
      ]
     },
     "execution_count": 27,
     "metadata": {},
     "output_type": "execute_result"
    }
   ],
   "source": [
    "len(df2[df2[\"Subscription Type\"] == \"Delux\"])"
   ]
  },
  {
   "cell_type": "code",
   "execution_count": 28,
   "metadata": {},
   "outputs": [
    {
     "data": {
      "text/plain": [
       "5002528"
      ]
     },
     "execution_count": 28,
     "metadata": {},
     "output_type": "execute_result"
    }
   ],
   "source": [
    "len(df2[df2[\"Subscription Type\"] == \"Essential\"])\n"
   ]
  },
  {
   "cell_type": "code",
   "execution_count": 29,
   "metadata": {},
   "outputs": [
    {
     "data": {
      "text/plain": [
       "3000098"
      ]
     },
     "execution_count": 29,
     "metadata": {},
     "output_type": "execute_result"
    }
   ],
   "source": [
    "len(df2[df2[\"Subscription Type\"] == \"Special\"])"
   ]
  },
  {
   "cell_type": "code",
   "execution_count": 30,
   "metadata": {},
   "outputs": [
    {
     "data": {
      "image/png": "[encoded data removed]",
      "text/plain": [
       "<Figure size 640x480 with 1 Axes>"
      ]
     },
     "metadata": {},
     "output_type": "display_data"
    }
   ],
   "source": [
    "# 나이대 컬럼 만들기\n",
    "df2[\"Age Group\"] = pd.cut(\n",
    "    df2[\"Age\"],\n",
    "    bins=[10, 19, 29, 39, 49, 59],\n",
    "    labels=[\"10s\", \"20s\", \"30s\", \"40s\", \"50s\"]\n",
    ")\n",
    "\n",
    "# 나이대별 구독 수 시각화\n",
    "sns.countplot(x='Age Group', data=df2, order=[\"10s\", \"20s\", \"30s\", \"40s\", \"50s\"])\n",
    "plt.title(\"Subscription by Age Groups\")\n",
    "plt.show()\n"
   ]
  },
  {
   "cell_type": "code",
   "execution_count": null,
   "metadata": {},
   "outputs": [
    {
     "data": {
      "image/png": "[encoded data removed]",
      "text/plain": [
       "<Figure size 640x480 with 2 Axes>"
      ]
     },
     "metadata": {},
     "output_type": "display_data"
    }
   ],
   "source": [
    "df2['Join Date'] = pd.to_datetime(df2['Join Date'], format='%d-%m-%y')\n",
    "\n",
    "df2['Subscribed Since'] = (pd.to_datetime(\"today\") - df2['Join Date']).dt.days\n",
    "\n",
    "cols = df2[['Monthly Revenue', 'Age', 'Subscribed Since']].corr()\n",
    "\n",
    "sns.heatmap(cols, annot=True, cmap='coolwarm')\n",
    "plt.title(\"Correlation Heatmap\")\n",
    "plt.show()"
   ]
  },
  {
   "cell_type": "code",
   "execution_count": null,
   "metadata": {},
   "outputs": [],
   "source": []
  }
 ],
 "metadata": {
  "kernelspec": {
   "display_name": "pystudy_env",
   "language": "python",
   "name": "python3"
  },
  "language_info": {
   "codemirror_mode": {
    "name": "ipython",
    "version": 3
   },
   "file_extension": ".py",
   "mimetype": "text/x-python",
   "name": "python",
   "nbconvert_exporter": "python",
   "pygments_lexer": "ipython3",
   "version": "3.12.9"
  }
 },
 "nbformat": 4,
 "nbformat_minor": 2
}
